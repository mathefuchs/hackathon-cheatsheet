{
 "cells": [
  {
   "cell_type": "markdown",
   "metadata": {},
   "source": [
    "# Data Splits - Train, Validation, Test"
   ]
  },
  {
   "cell_type": "code",
   "execution_count": 1,
   "metadata": {},
   "outputs": [
    {
     "name": "stdout",
     "output_type": "stream",
     "text": [
      "          0         1\n",
      "0  0.374540  0.950714\n",
      "1  0.731994  0.598658\n",
      "2  0.156019  0.155995\n",
      "3  0.058084  0.866176\n",
      "4  0.601115  0.708073\n",
      "\n",
      "0    1\n",
      "1    1\n",
      "2    0\n",
      "3    0\n",
      "4    1\n",
      "Name: 2, dtype: int32\n"
     ]
    }
   ],
   "source": [
    "import numpy as np\n",
    "import pandas as pd\n",
    "\n",
    "np.random.seed(42)\n",
    "\n",
    "# Test data\n",
    "df = pd.DataFrame(np.random.rand(1000,2))\n",
    "df[2] = (df[0] + df[1] > 1).astype(int)\n",
    "\n",
    "x = df[[0, 1]]\n",
    "y = df[2]\n",
    "\n",
    "print(x.head())\n",
    "print()\n",
    "print(y.head())"
   ]
  },
  {
   "cell_type": "markdown",
   "metadata": {},
   "source": [
    "### Keep-out Test Set"
   ]
  },
  {
   "cell_type": "code",
   "execution_count": 2,
   "metadata": {},
   "outputs": [
    {
     "data": {
      "text/plain": [
       "((700, 2), (300, 2), (700,), (300,))"
      ]
     },
     "execution_count": 2,
     "metadata": {},
     "output_type": "execute_result"
    }
   ],
   "source": [
    "from sklearn.model_selection import train_test_split\n",
    "\n",
    "x_nontest, x_test, y_nontest, y_test = train_test_split(\n",
    "    x, y, test_size=0.3, stratify=y, shuffle=True, random_state=42\n",
    ")\n",
    "x_nontest.shape, x_test.shape, y_nontest.shape, y_test.shape"
   ]
  },
  {
   "cell_type": "code",
   "execution_count": 3,
   "metadata": {},
   "outputs": [
    {
     "data": {
      "text/plain": [
       "(504, 353, 151)"
      ]
     },
     "execution_count": 3,
     "metadata": {},
     "output_type": "execute_result"
    }
   ],
   "source": [
    "np.count_nonzero(y), np.count_nonzero(y_nontest), np.count_nonzero(y_test)"
   ]
  },
  {
   "cell_type": "markdown",
   "metadata": {},
   "source": [
    "### Stratified k-fold Cross Validation"
   ]
  },
  {
   "cell_type": "code",
   "execution_count": 4,
   "metadata": {},
   "outputs": [
    {
     "name": "stdout",
     "output_type": "stream",
     "text": [
      "(630, 2) (70, 2) (630,) (70,)\n",
      "317 36\n",
      "\n",
      "(630, 2) (70, 2) (630,) (70,)\n",
      "317 36\n",
      "\n",
      "(630, 2) (70, 2) (630,) (70,)\n",
      "317 36\n",
      "\n",
      "(630, 2) (70, 2) (630,) (70,)\n",
      "318 35\n",
      "\n",
      "(630, 2) (70, 2) (630,) (70,)\n",
      "318 35\n",
      "\n",
      "(630, 2) (70, 2) (630,) (70,)\n",
      "318 35\n",
      "\n",
      "(630, 2) (70, 2) (630,) (70,)\n",
      "318 35\n",
      "\n",
      "(630, 2) (70, 2) (630,) (70,)\n",
      "318 35\n",
      "\n",
      "(630, 2) (70, 2) (630,) (70,)\n",
      "318 35\n",
      "\n",
      "(630, 2) (70, 2) (630,) (70,)\n",
      "318 35\n",
      "\n"
     ]
    }
   ],
   "source": [
    "from sklearn.model_selection import StratifiedKFold\n",
    "\n",
    "skf = StratifiedKFold(n_splits=10, shuffle=True, random_state=42)\n",
    "\n",
    "for train_index, val_index in skf.split(x_nontest, y_nontest):\n",
    "    x_train, x_val = x_nontest.iloc[train_index], x_nontest.iloc[val_index]\n",
    "    y_train, y_val = y_nontest.iloc[train_index], y_nontest.iloc[val_index]\n",
    "    \n",
    "    # Fit model ...\n",
    "    \n",
    "    print(x_train.shape, x_val.shape, y_train.shape, y_val.shape)\n",
    "    print(np.count_nonzero(y_train), np.count_nonzero(y_val))\n",
    "    print()"
   ]
  },
  {
   "cell_type": "markdown",
   "metadata": {},
   "source": [
    "### GroupShuffleSplit - Ensure that all elements of one group belong to the same partition"
   ]
  },
  {
   "cell_type": "code",
   "execution_count": 5,
   "metadata": {},
   "outputs": [],
   "source": [
    "from sklearn.model_selection import GroupShuffleSplit\n",
    "\n",
    "splitter = GroupShuffleSplit(n_splits=1, test_size=0.3, random_state=42)\n",
    "# splits = splitter.split(posts, groups=posts[author_id_column])"
   ]
  },
  {
   "cell_type": "code",
   "execution_count": null,
   "metadata": {},
   "outputs": [],
   "source": []
  }
 ],
 "metadata": {
  "kernelspec": {
   "display_name": "Python 3",
   "language": "python",
   "name": "python3"
  },
  "language_info": {
   "codemirror_mode": {
    "name": "ipython",
    "version": 3
   },
   "file_extension": ".py",
   "mimetype": "text/x-python",
   "name": "python",
   "nbconvert_exporter": "python",
   "pygments_lexer": "ipython3",
   "version": "3.6.10"
  }
 },
 "nbformat": 4,
 "nbformat_minor": 4
}
