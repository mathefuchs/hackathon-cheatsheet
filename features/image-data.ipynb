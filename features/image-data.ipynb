{
 "cells": [
  {
   "cell_type": "markdown",
   "metadata": {},
   "source": [
    "# Feature Engineering with Image Data"
   ]
  },
  {
   "cell_type": "markdown",
   "metadata": {},
   "source": [
    "### Use last layer of pretrained VGG16 ImageNet Model as a representation - Transfer Learning"
   ]
  },
  {
   "cell_type": "code",
   "execution_count": 1,
   "metadata": {},
   "outputs": [
    {
     "name": "stderr",
     "output_type": "stream",
     "text": [
      "Using plaidml.keras.backend backend.\n",
      "INFO:plaidml:Opening device \"opencl_intel_hd_graphics_520.0\"\n"
     ]
    },
    {
     "data": {
      "text/plain": [
       "(1, 4096)"
      ]
     },
     "execution_count": 1,
     "metadata": {},
     "output_type": "execute_result"
    }
   ],
   "source": [
    "import os\n",
    "\n",
    "os.environ[\"KERAS_BACKEND\"] = \"plaidml.keras.backend\"\n",
    "\n",
    "import numpy as np\n",
    "\n",
    "from keras.preprocessing import image\n",
    "from keras.models import Model\n",
    "from keras.applications.vgg16 import VGG16\n",
    "from keras.applications.vgg16 import preprocess_input\n",
    "\n",
    "\n",
    "def generate_features(image_paths):\n",
    "    \"\"\"\n",
    "    Takes in an array of image paths\n",
    "    Returns pretrained features for each image\n",
    "    :param image_paths: array of image paths\n",
    "    :return: array of last-layer activations,\n",
    "    and mapping from array_index to file_path\n",
    "    \"\"\"\n",
    "    \n",
    "    images = np.zeros(shape=(len(image_paths), 224, 224, 3))\n",
    "    \n",
    "    # loading a pretrained model\n",
    "    pretrained_vgg16 = VGG16(weights='imagenet', include_top=True)\n",
    "    \n",
    "    # Using only the penultimate layer, to leverage learned features\n",
    "    model = Model(inputs=pretrained_vgg16.input,\n",
    "        outputs=pretrained_vgg16.get_layer('fc2').output)\n",
    "    \n",
    "    # We load all our dataset in memory (works for small datasets)\n",
    "    for i, f in enumerate(image_paths):\n",
    "        img = image.load_img(f, target_size=(224, 224))\n",
    "        x_raw = image.img_to_array(img)\n",
    "        x_expand = np.expand_dims(x_raw, axis=0)\n",
    "        images[i, :, :, :] = x_expand\n",
    "        \n",
    "    # Once we've loaded all our images, we pass them to our model\n",
    "    inputs = preprocess_input(images)\n",
    "    images_features = model.predict(inputs)\n",
    "    return images_features\n",
    "\n",
    "\n",
    "img_vec = generate_features([\"./data/picture.png\"])\n",
    "img_vec.shape"
   ]
  },
  {
   "cell_type": "code",
   "execution_count": 2,
   "metadata": {},
   "outputs": [
    {
     "data": {
      "text/plain": [
       "(0.0, 8.114091)"
      ]
     },
     "execution_count": 2,
     "metadata": {},
     "output_type": "execute_result"
    }
   ],
   "source": [
    "np.min(img_vec), np.max(img_vec)"
   ]
  },
  {
   "cell_type": "code",
   "execution_count": null,
   "metadata": {},
   "outputs": [],
   "source": []
  }
 ],
 "metadata": {
  "kernelspec": {
   "display_name": "Python 3",
   "language": "python",
   "name": "python3"
  },
  "language_info": {
   "codemirror_mode": {
    "name": "ipython",
    "version": 3
   },
   "file_extension": ".py",
   "mimetype": "text/x-python",
   "name": "python",
   "nbconvert_exporter": "python",
   "pygments_lexer": "ipython3",
   "version": "3.6.10"
  }
 },
 "nbformat": 4,
 "nbformat_minor": 4
}
