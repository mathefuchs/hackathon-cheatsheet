{
 "cells": [
  {
   "cell_type": "markdown",
   "metadata": {},
   "source": [
    "# Pipelines"
   ]
  },
  {
   "cell_type": "code",
   "execution_count": 1,
   "metadata": {},
   "outputs": [
    {
     "data": {
      "text/plain": [
       "((1000, 2), (1000,))"
      ]
     },
     "execution_count": 1,
     "metadata": {},
     "output_type": "execute_result"
    }
   ],
   "source": [
    "import numpy as np\n",
    "\n",
    "np.random.seed(42)\n",
    "\n",
    "# Test data\n",
    "X = np.random.rand(1000, 2)\n",
    "Y = (X[:, 0] + X[:, 1]) > 1\n",
    "\n",
    "X.shape, Y.shape"
   ]
  },
  {
   "cell_type": "code",
   "execution_count": 2,
   "metadata": {},
   "outputs": [
    {
     "data": {
      "text/plain": [
       "((700, 2), (300, 2), (700,), (300,))"
      ]
     },
     "execution_count": 2,
     "metadata": {},
     "output_type": "execute_result"
    }
   ],
   "source": [
    "from sklearn.model_selection import train_test_split\n",
    "\n",
    "x_nontest, x_test, y_nontest, y_test = train_test_split(\n",
    "    X, Y, test_size=0.3, stratify=Y, shuffle=True, random_state=42\n",
    ")\n",
    "\n",
    "x_nontest.shape, x_test.shape, y_nontest.shape, y_test.shape"
   ]
  },
  {
   "cell_type": "code",
   "execution_count": 3,
   "metadata": {},
   "outputs": [],
   "source": [
    "from sklearn.pipeline import Pipeline\n",
    "from sklearn.model_selection import GridSearchCV\n",
    "from sklearn.metrics import accuracy_score\n",
    "\n",
    "from sklearn.preprocessing import StandardScaler\n",
    "from sklearn.ensemble import RandomForestClassifier\n",
    "from sklearn.linear_model import LogisticRegression"
   ]
  },
  {
   "cell_type": "code",
   "execution_count": 4,
   "metadata": {},
   "outputs": [
    {
     "name": "stdout",
     "output_type": "stream",
     "text": [
      "Best parameters {'classifier__criterion': 'gini', 'classifier__n_estimators': 50}\n",
      "CrossVal accuracy 0.97\n",
      "Test Set accuracy 0.97\n"
     ]
    }
   ],
   "source": [
    "rf_pl = Pipeline([\n",
    "    (\"scaler\", StandardScaler()), \n",
    "    (\"classifier\", RandomForestClassifier())\n",
    "])\n",
    "rf_grid_search_params = {\n",
    "    \"classifier__n_estimators\": [50, 100, 150],\n",
    "    \"classifier__criterion\": [\"entropy\", \"gini\"]\n",
    "}\n",
    "rf_gs = GridSearchCV(rf_pl, rf_grid_search_params, n_jobs=-1)\n",
    "rf_gs.fit(x_nontest, y_nontest)\n",
    "\n",
    "print(\"Best parameters\", rf_gs.best_params_)\n",
    "print(\"CrossVal accuracy\", rf_gs.best_score_)\n",
    "print(\"Test Set accuracy\", accuracy_score(y_test, rf_gs.predict(x_test)))"
   ]
  },
  {
   "cell_type": "code",
   "execution_count": 5,
   "metadata": {},
   "outputs": [
    {
     "name": "stdout",
     "output_type": "stream",
     "text": [
      "Best parameters {'classifier__class_weight': None, 'classifier__penalty': 'none'}\n",
      "CrossVal accuracy 0.9971428571428571\n",
      "Test Set accuracy 1.0\n"
     ]
    }
   ],
   "source": [
    "logreg_pl = Pipeline([\n",
    "    (\"scaler\", StandardScaler()), \n",
    "    (\"classifier\", LogisticRegression())\n",
    "])\n",
    "logreg_grid_search_params = {\n",
    "    \"classifier__penalty\": ['l1', 'l2', 'elasticnet', 'none'],\n",
    "    \"classifier__class_weight\" : [None, \"balanced\"]\n",
    "}\n",
    "logreg_gs = GridSearchCV(logreg_pl, logreg_grid_search_params, n_jobs=-1)\n",
    "logreg_gs.fit(x_nontest, y_nontest)\n",
    "\n",
    "print(\"Best parameters\", logreg_gs.best_params_)\n",
    "print(\"CrossVal accuracy\", logreg_gs.best_score_)\n",
    "print(\"Test Set accuracy\", accuracy_score(y_test, logreg_gs.predict(x_test)))"
   ]
  },
  {
   "cell_type": "code",
   "execution_count": null,
   "metadata": {},
   "outputs": [],
   "source": []
  }
 ],
 "metadata": {
  "kernelspec": {
   "display_name": "Python 3",
   "language": "python",
   "name": "python3"
  },
  "language_info": {
   "codemirror_mode": {
    "name": "ipython",
    "version": 3
   },
   "file_extension": ".py",
   "mimetype": "text/x-python",
   "name": "python",
   "nbconvert_exporter": "python",
   "pygments_lexer": "ipython3",
   "version": "3.8.5"
  }
 },
 "nbformat": 4,
 "nbformat_minor": 4
}
