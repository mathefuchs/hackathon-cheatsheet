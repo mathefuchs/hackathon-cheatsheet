{
 "cells": [
  {
   "cell_type": "markdown",
   "metadata": {},
   "source": [
    "# Numba parallel execution"
   ]
  },
  {
   "cell_type": "code",
   "execution_count": 1,
   "metadata": {},
   "outputs": [
    {
     "name": "stdout",
     "output_type": "stream",
     "text": [
      "0.7082388401031494\n",
      "7.0528175830841064\n"
     ]
    }
   ],
   "source": [
    "import time\n",
    "import numba\n",
    "\n",
    "\n",
    "iterations = 10_000_000\n",
    "\n",
    "\n",
    "def without_numba():\n",
    "    x = 0\n",
    "    for i in range(iterations):\n",
    "        x += min(min(99 * i, max(-2 * i, -1000)), 1000)\n",
    "\n",
    "\n",
    "@numba.jit(nopython=True, parallel=True)\n",
    "def with_numba():\n",
    "    x = 0\n",
    "    for i in numba.prange(iterations):\n",
    "        x += min(min(99 * i, max(-2 * i, -1000)), 1000)\n",
    "\n",
    "\n",
    "start_with_numba = time.time()\n",
    "with_numba()\n",
    "end_with_numba = time.time()\n",
    "print(end_with_numba - start_with_numba)\n",
    "\n",
    "start_without_numba = time.time()\n",
    "without_numba()\n",
    "end_without_numba = time.time()\n",
    "print(end_without_numba - start_without_numba)"
   ]
  },
  {
   "cell_type": "code",
   "execution_count": null,
   "metadata": {},
   "outputs": [],
   "source": []
  }
 ],
 "metadata": {
  "kernelspec": {
   "display_name": "Python 3",
   "language": "python",
   "name": "python3"
  },
  "language_info": {
   "codemirror_mode": {
    "name": "ipython",
    "version": 3
   },
   "file_extension": ".py",
   "mimetype": "text/x-python",
   "name": "python",
   "nbconvert_exporter": "python",
   "pygments_lexer": "ipython3",
   "version": "3.8.5"
  }
 },
 "nbformat": 4,
 "nbformat_minor": 4
}
