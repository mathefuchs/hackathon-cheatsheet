{
 "cells": [
  {
   "cell_type": "markdown",
   "metadata": {},
   "source": [
    "# Command-Line Interface"
   ]
  },
  {
   "cell_type": "markdown",
   "metadata": {},
   "source": [
    "### Reading CLI arguments"
   ]
  },
  {
   "cell_type": "code",
   "execution_count": 1,
   "metadata": {},
   "outputs": [],
   "source": [
    "import argparse\n",
    "\n",
    "def parse_arguments():\n",
    "    \"\"\"\n",
    "    :return: The text to be edited\n",
    "    \"\"\"\n",
    "    parser = argparse.ArgumentParser(description=\"Receive text to be edited\")\n",
    "    parser.add_argument('text', metavar='input text', type=str)\n",
    "    args = parser.parse_args()\n",
    "    return args.text"
   ]
  },
  {
   "cell_type": "markdown",
   "metadata": {},
   "source": [
    "### Input Sanitizing"
   ]
  },
  {
   "cell_type": "code",
   "execution_count": 2,
   "metadata": {},
   "outputs": [
    {
     "name": "stdout",
     "output_type": "stream",
     "text": [
      "&lt;&gt;&amp;\n"
     ]
    }
   ],
   "source": [
    "import html\n",
    "\n",
    "input = '<>&'\n",
    "output = html.escape(input)\n",
    "\n",
    "print(output)"
   ]
  },
  {
   "cell_type": "code",
   "execution_count": 3,
   "metadata": {},
   "outputs": [
    {
     "data": {
      "text/plain": [
       "'Lsung'"
      ]
     },
     "execution_count": 3,
     "metadata": {},
     "output_type": "execute_result"
    }
   ],
   "source": [
    "def clean_input(text):\n",
    "    \"\"\"\n",
    "    :param text: User input text\n",
    "    :return: Sanitized text, without non ascii characters\n",
    "    \"\"\"\n",
    "    return str(text.encode().decode('ascii', errors='ignore'))\n",
    "\n",
    "clean_input(\"Lösung\")"
   ]
  }
 ],
 "metadata": {
  "kernelspec": {
   "display_name": "Python 3",
   "language": "python",
   "name": "python3"
  },
  "language_info": {
   "codemirror_mode": {
    "name": "ipython",
    "version": 3
   },
   "file_extension": ".py",
   "mimetype": "text/x-python",
   "name": "python",
   "nbconvert_exporter": "python",
   "pygments_lexer": "ipython3",
   "version": "3.6.10"
  }
 },
 "nbformat": 4,
 "nbformat_minor": 4
}
