{
 "cells": [
  {
   "cell_type": "markdown",
   "metadata": {},
   "source": [
    "# Feature Engineering with Text Data"
   ]
  },
  {
   "cell_type": "markdown",
   "metadata": {},
   "source": [
    "### Deleting non-ASCII characters"
   ]
  },
  {
   "cell_type": "code",
   "execution_count": 1,
   "metadata": {},
   "outputs": [
    {
     "data": {
      "text/plain": [
       "'Lsung'"
      ]
     },
     "execution_count": 1,
     "metadata": {},
     "output_type": "execute_result"
    }
   ],
   "source": [
    "def clean_input(text):\n",
    "    \"\"\"\n",
    "    :param text: User input text\n",
    "    :return: Sanitized text, without non ascii characters\n",
    "    \"\"\"\n",
    "    return str(text.encode().decode('ascii', errors='ignore'))\n",
    "\n",
    "clean_input(\"Lösung\")"
   ]
  },
  {
   "cell_type": "markdown",
   "metadata": {},
   "source": [
    "### Tokenizing text"
   ]
  },
  {
   "cell_type": "code",
   "execution_count": 2,
   "metadata": {},
   "outputs": [
    {
     "name": "stderr",
     "output_type": "stream",
     "text": [
      "[nltk_data] Downloading package punkt to\n",
      "[nltk_data]     C:\\Users\\derfu\\AppData\\Roaming\\nltk_data...\n",
      "[nltk_data]   Package punkt is already up-to-date!\n"
     ]
    },
    {
     "data": {
      "text/plain": [
       "[['Mr.',\n",
       "  \"O'Neill\",\n",
       "  'thinks',\n",
       "  'that',\n",
       "  'the',\n",
       "  'boys',\n",
       "  \"'\",\n",
       "  'stories',\n",
       "  'about',\n",
       "  'Chile',\n",
       "  \"'s\",\n",
       "  'capital',\n",
       "  'are',\n",
       "  \"n't\",\n",
       "  'amusing',\n",
       "  '.'],\n",
       " ['That', \"'s\", 'true', '.']]"
      ]
     },
     "execution_count": 2,
     "metadata": {},
     "output_type": "execute_result"
    }
   ],
   "source": [
    "import nltk\n",
    "nltk.download('punkt')\n",
    "\n",
    "text = \"Mr. O'Neill thinks that the boys' stories about Chile's capital aren't amusing. That's true.\"\n",
    "sentences = nltk.sent_tokenize(text)\n",
    "tokens = [nltk.word_tokenize(sentence) for sentence in sentences]\n",
    "tokens"
   ]
  },
  {
   "cell_type": "markdown",
   "metadata": {},
   "source": [
    "### Word stats"
   ]
  },
  {
   "cell_type": "code",
   "execution_count": 12,
   "metadata": {},
   "outputs": [
    {
     "name": "stderr",
     "output_type": "stream",
     "text": [
      "100%|██████████| 2/2 [00:00<00:00, 52.92it/s]\n"
     ]
    },
    {
     "data": {
      "text/html": [
       "<div>\n",
       "<style scoped>\n",
       "    .dataframe tbody tr th:only-of-type {\n",
       "        vertical-align: middle;\n",
       "    }\n",
       "\n",
       "    .dataframe tbody tr th {\n",
       "        vertical-align: top;\n",
       "    }\n",
       "\n",
       "    .dataframe thead th {\n",
       "        text-align: right;\n",
       "    }\n",
       "</style>\n",
       "<table border=\"1\" class=\"dataframe\">\n",
       "  <thead>\n",
       "    <tr style=\"text-align: right;\">\n",
       "      <th></th>\n",
       "      <th>0</th>\n",
       "      <th>1</th>\n",
       "    </tr>\n",
       "  </thead>\n",
       "  <tbody>\n",
       "    <tr>\n",
       "      <th>full_text</th>\n",
       "      <td>Mr. O'Neill thinks that the boys' stories abou...</td>\n",
       "      <td>That's true.</td>\n",
       "    </tr>\n",
       "    <tr>\n",
       "      <th>num_chars</th>\n",
       "      <td>79</td>\n",
       "      <td>12</td>\n",
       "    </tr>\n",
       "    <tr>\n",
       "      <th>num_questions</th>\n",
       "      <td>0</td>\n",
       "      <td>0</td>\n",
       "    </tr>\n",
       "    <tr>\n",
       "      <th>num_periods</th>\n",
       "      <td>2.53165</td>\n",
       "      <td>8.33333</td>\n",
       "    </tr>\n",
       "    <tr>\n",
       "      <th>num_commas</th>\n",
       "      <td>0</td>\n",
       "      <td>0</td>\n",
       "    </tr>\n",
       "    <tr>\n",
       "      <th>num_exclam</th>\n",
       "      <td>0</td>\n",
       "      <td>0</td>\n",
       "    </tr>\n",
       "    <tr>\n",
       "      <th>num_quotes</th>\n",
       "      <td>0</td>\n",
       "      <td>0</td>\n",
       "    </tr>\n",
       "    <tr>\n",
       "      <th>num_colon</th>\n",
       "      <td>0</td>\n",
       "      <td>0</td>\n",
       "    </tr>\n",
       "    <tr>\n",
       "      <th>num_semicolon</th>\n",
       "      <td>0</td>\n",
       "      <td>0</td>\n",
       "    </tr>\n",
       "    <tr>\n",
       "      <th>spacy_text</th>\n",
       "      <td>(Mr., O'Neill, thinks, that, the, boys, ', sto...</td>\n",
       "      <td>(That, 's, true, .)</td>\n",
       "    </tr>\n",
       "    <tr>\n",
       "      <th>num_words</th>\n",
       "      <td>20.2532</td>\n",
       "      <td>33.3333</td>\n",
       "    </tr>\n",
       "    <tr>\n",
       "      <th>num_diff_words</th>\n",
       "      <td>16</td>\n",
       "      <td>4</td>\n",
       "    </tr>\n",
       "    <tr>\n",
       "      <th>avg_word_len</th>\n",
       "      <td>4.25</td>\n",
       "      <td>2.75</td>\n",
       "    </tr>\n",
       "    <tr>\n",
       "      <th>num_stops</th>\n",
       "      <td>7.59494</td>\n",
       "      <td>16.6667</td>\n",
       "    </tr>\n",
       "    <tr>\n",
       "      <th>ADJ</th>\n",
       "      <td>0.0126582</td>\n",
       "      <td>0.0833333</td>\n",
       "    </tr>\n",
       "    <tr>\n",
       "      <th>ADP</th>\n",
       "      <td>0.0126582</td>\n",
       "      <td>0</td>\n",
       "    </tr>\n",
       "    <tr>\n",
       "      <th>ADV</th>\n",
       "      <td>0</td>\n",
       "      <td>0</td>\n",
       "    </tr>\n",
       "    <tr>\n",
       "      <th>AUX</th>\n",
       "      <td>0.0126582</td>\n",
       "      <td>0.0833333</td>\n",
       "    </tr>\n",
       "    <tr>\n",
       "      <th>CONJ</th>\n",
       "      <td>0</td>\n",
       "      <td>0</td>\n",
       "    </tr>\n",
       "    <tr>\n",
       "      <th>DET</th>\n",
       "      <td>0.0126582</td>\n",
       "      <td>0.0833333</td>\n",
       "    </tr>\n",
       "    <tr>\n",
       "      <th>INTJ</th>\n",
       "      <td>0</td>\n",
       "      <td>0</td>\n",
       "    </tr>\n",
       "    <tr>\n",
       "      <th>NOUN</th>\n",
       "      <td>0.0379747</td>\n",
       "      <td>0</td>\n",
       "    </tr>\n",
       "    <tr>\n",
       "      <th>NUM</th>\n",
       "      <td>0</td>\n",
       "      <td>0</td>\n",
       "    </tr>\n",
       "    <tr>\n",
       "      <th>PART</th>\n",
       "      <td>0.0379747</td>\n",
       "      <td>0</td>\n",
       "    </tr>\n",
       "    <tr>\n",
       "      <th>PRON</th>\n",
       "      <td>0</td>\n",
       "      <td>0</td>\n",
       "    </tr>\n",
       "    <tr>\n",
       "      <th>PROPN</th>\n",
       "      <td>0.0379747</td>\n",
       "      <td>0</td>\n",
       "    </tr>\n",
       "    <tr>\n",
       "      <th>PUNCT</th>\n",
       "      <td>0.0126582</td>\n",
       "      <td>0.0833333</td>\n",
       "    </tr>\n",
       "    <tr>\n",
       "      <th>SCONJ</th>\n",
       "      <td>0.0126582</td>\n",
       "      <td>0</td>\n",
       "    </tr>\n",
       "    <tr>\n",
       "      <th>SYM</th>\n",
       "      <td>0</td>\n",
       "      <td>0</td>\n",
       "    </tr>\n",
       "    <tr>\n",
       "      <th>VERB</th>\n",
       "      <td>0.0126582</td>\n",
       "      <td>0</td>\n",
       "    </tr>\n",
       "    <tr>\n",
       "      <th>X</th>\n",
       "      <td>0</td>\n",
       "      <td>0</td>\n",
       "    </tr>\n",
       "  </tbody>\n",
       "</table>\n",
       "</div>"
      ],
      "text/plain": [
       "                                                                0  \\\n",
       "full_text       Mr. O'Neill thinks that the boys' stories abou...   \n",
       "num_chars                                                      79   \n",
       "num_questions                                                   0   \n",
       "num_periods                                               2.53165   \n",
       "num_commas                                                      0   \n",
       "num_exclam                                                      0   \n",
       "num_quotes                                                      0   \n",
       "num_colon                                                       0   \n",
       "num_semicolon                                                   0   \n",
       "spacy_text      (Mr., O'Neill, thinks, that, the, boys, ', sto...   \n",
       "num_words                                                 20.2532   \n",
       "num_diff_words                                                 16   \n",
       "avg_word_len                                                 4.25   \n",
       "num_stops                                                 7.59494   \n",
       "ADJ                                                     0.0126582   \n",
       "ADP                                                     0.0126582   \n",
       "ADV                                                             0   \n",
       "AUX                                                     0.0126582   \n",
       "CONJ                                                            0   \n",
       "DET                                                     0.0126582   \n",
       "INTJ                                                            0   \n",
       "NOUN                                                    0.0379747   \n",
       "NUM                                                             0   \n",
       "PART                                                    0.0379747   \n",
       "PRON                                                            0   \n",
       "PROPN                                                   0.0379747   \n",
       "PUNCT                                                   0.0126582   \n",
       "SCONJ                                                   0.0126582   \n",
       "SYM                                                             0   \n",
       "VERB                                                    0.0126582   \n",
       "X                                                               0   \n",
       "\n",
       "                                  1  \n",
       "full_text              That's true.  \n",
       "num_chars                        12  \n",
       "num_questions                     0  \n",
       "num_periods                 8.33333  \n",
       "num_commas                        0  \n",
       "num_exclam                        0  \n",
       "num_quotes                        0  \n",
       "num_colon                         0  \n",
       "num_semicolon                     0  \n",
       "spacy_text      (That, 's, true, .)  \n",
       "num_words                   33.3333  \n",
       "num_diff_words                    4  \n",
       "avg_word_len                   2.75  \n",
       "num_stops                   16.6667  \n",
       "ADJ                       0.0833333  \n",
       "ADP                               0  \n",
       "ADV                               0  \n",
       "AUX                       0.0833333  \n",
       "CONJ                              0  \n",
       "DET                       0.0833333  \n",
       "INTJ                              0  \n",
       "NOUN                              0  \n",
       "NUM                               0  \n",
       "PART                              0  \n",
       "PRON                              0  \n",
       "PROPN                             0  \n",
       "PUNCT                     0.0833333  \n",
       "SCONJ                             0  \n",
       "SYM                               0  \n",
       "VERB                              0  \n",
       "X                                 0  "
      ]
     },
     "execution_count": 12,
     "metadata": {},
     "output_type": "execute_result"
    }
   ],
   "source": [
    "import pandas as pd\n",
    "import spacy\n",
    "\n",
    "from tqdm import tqdm\n",
    "\n",
    "SPACY_MODEL = spacy.load(\"en_core_web_sm\")\n",
    "tqdm.pandas()\n",
    "\n",
    "\n",
    "POS_NAMES = {\n",
    "    \"ADJ\": \"adjective\",\n",
    "    \"ADP\": \"adposition\",\n",
    "    \"ADV\": \"adverb\",\n",
    "    \"AUX\": \"auxiliary verb\",\n",
    "    \"CONJ\": \"coordinating conjunction\",\n",
    "    \"DET\": \"determiner\",\n",
    "    \"INTJ\": \"interjection\",\n",
    "    \"NOUN\": \"noun\",\n",
    "    \"NUM\": \"numeral\",\n",
    "    \"PART\": \"particle\",\n",
    "    \"PRON\": \"pronoun\",\n",
    "    \"PROPN\": \"proper noun\",\n",
    "    \"PUNCT\": \"punctuation\",\n",
    "    \"SCONJ\": \"subordinating conjunction\",\n",
    "    \"SYM\": \"symbol\",\n",
    "    \"VERB\": \"verb\",\n",
    "    \"X\": \"other\",\n",
    "}\n",
    "\n",
    "\n",
    "def count_each_pos(df):\n",
    "    \"\"\"\n",
    "    Count occurrences of each part of speech, and add it do an input DataFrame\n",
    "    :param df: input DataFrame containing text that has been passed to SPACY_MODEL\n",
    "    :return: DataFrame with occurrence counts\n",
    "    \"\"\"\n",
    "    global POS_NAMES\n",
    "    pos_list = df[\"spacy_text\"].apply(lambda doc: [token.pos_ for token in doc])\n",
    "    for pos_name in POS_NAMES.keys():\n",
    "        df[pos_name] = (\n",
    "            pos_list.apply(\n",
    "                lambda x: len([match for match in x if match == pos_name])\n",
    "            )\n",
    "            / df[\"num_chars\"]\n",
    "        )\n",
    "    return df\n",
    "\n",
    "\n",
    "def get_avg_wd_len(tokens):\n",
    "    \"\"\"\n",
    "    Returns average word length for a list of words\n",
    "    :param tokens: array of words\n",
    "    :return: average number of characters per word\n",
    "    \"\"\"\n",
    "    if len(tokens) < 1:\n",
    "        return 0\n",
    "    lens = [len(x) for x in tokens]\n",
    "    return float(sum(lens) / len(lens))\n",
    "\n",
    "\n",
    "def get_word_stats(df):\n",
    "    \"\"\"\n",
    "    Adds statistical features such as word counts to a DataFrame\n",
    "    :param df: DataFrame containing a full_text column with training questions\n",
    "    :return: DataFrame with new feature columns\n",
    "    \"\"\"\n",
    "    global SPACY_MODEL\n",
    "    \n",
    "    df[\"num_chars\"] = df[\"full_text\"].str.len()\n",
    "\n",
    "    df[\"num_questions\"] = 100 * df[\"full_text\"].str.count(\"\\?\") / df[\"num_chars\"]\n",
    "    df[\"num_periods\"] = 100 * df[\"full_text\"].str.count(\"\\.\") / df[\"num_chars\"]\n",
    "    df[\"num_commas\"] = 100 * df[\"full_text\"].str.count(\",\") / df[\"num_chars\"]\n",
    "    df[\"num_exclam\"] = 100 * df[\"full_text\"].str.count(\"!\") / df[\"num_chars\"]\n",
    "    df[\"num_quotes\"] = 100 * df[\"full_text\"].str.count('\"') / df[\"num_chars\"]\n",
    "    df[\"num_colon\"] = 100 * df[\"full_text\"].str.count(\":\") / df[\"num_chars\"]\n",
    "    df[\"num_semicolon\"] = 100 * df[\"full_text\"].str.count(\";\") / df[\"num_chars\"]\n",
    "    \n",
    "    df[\"spacy_text\"] = df[\"full_text\"].progress_apply(lambda x: SPACY_MODEL(x))\n",
    "\n",
    "    df[\"num_words\"] = (\n",
    "        df[\"spacy_text\"].apply(lambda x: 100 * len(x)) / df[\"num_chars\"]\n",
    "    )\n",
    "    df[\"num_diff_words\"] = df[\"spacy_text\"].apply(lambda x: len(set(x)))\n",
    "    df[\"avg_word_len\"] = df[\"spacy_text\"].apply(lambda x: get_avg_wd_len(x))\n",
    "    df[\"num_stops\"] = (\n",
    "        df[\"spacy_text\"].apply(\n",
    "            lambda x: 100 * len([stop for stop in x if stop.is_stop])\n",
    "        )\n",
    "        / df[\"num_chars\"]\n",
    "    )\n",
    "\n",
    "    df = count_each_pos(df.copy())\n",
    "    return df\n",
    "\n",
    "df = pd.DataFrame({\"full_text\": [\n",
    "    \"Mr. O'Neill thinks that the boys' stories about Chile's capital aren't amusing.\", \"That's true.\"\n",
    "]})\n",
    "get_word_stats(df).transpose()"
   ]
  },
  {
   "cell_type": "markdown",
   "metadata": {},
   "source": [
    "### Vectorizing Text - Normalized Bag-of-Words"
   ]
  },
  {
   "cell_type": "code",
   "execution_count": 25,
   "metadata": {},
   "outputs": [
    {
     "data": {
      "text/plain": [
       "<13x44 sparse matrix of type '<class 'numpy.float64'>'\n",
       "\twith 46 stored elements in Compressed Sparse Row format>"
      ]
     },
     "execution_count": 25,
     "metadata": {},
     "output_type": "execute_result"
    }
   ],
   "source": [
    "import pandas as pd\n",
    "import numpy as np\n",
    "\n",
    "from sklearn.feature_extraction.text import TfidfVectorizer\n",
    "\n",
    "df = pd.DataFrame({\n",
    "    \"full_text\": [\n",
    "        \"Mr. O'Neill thinks that the boys' stories about Chile's capital aren't amusing.\", \n",
    "        \"That's true.\",\n",
    "        \"Lorem ipsum dolor sit amet, consetetur sadipscing elitr, sed diam nonumy eirmod tempor invidunt ut labore et dolore magna aliquyam erat, sed diam voluptua.\",\n",
    "        \"That\", \"is\", \"tree\", \"human\", \"religion\", \"bottle\", \"pen\", \"mouse\", \"computer\", \"keyboard\"\n",
    "    ],\n",
    "    \"label\": [\n",
    "        True, False, True, True, False, True, False, False, False, True, True, False, True\n",
    "    ]            \n",
    "})\n",
    "label_column = df[\"label\"]\n",
    "\n",
    "# Create an instance of a tfidf vectorizer, \n",
    "# We could use CountVectorizer for a non normalized version\n",
    "vectorizer = TfidfVectorizer()#ngram_range=(1, 2), min_df=5, max_features=2**21)\n",
    "\n",
    "# Fit our vectorizer to questions in our dataset\n",
    "# Returns an array of vectorized text\n",
    "bag_of_words = vectorizer.fit_transform(df[\"full_text\"])\n",
    "bag_of_words"
   ]
  },
  {
   "cell_type": "code",
   "execution_count": 28,
   "metadata": {},
   "outputs": [
    {
     "name": "stderr",
     "output_type": "stream",
     "text": [
      "C:\\Users\\derfu\\anaconda3\\lib\\site-packages\\umap\\umap_.py:1679: UserWarning: n_neighbors is larger than the dataset size; truncating to X.shape[0] - 1\n",
      "  \"n_neighbors is larger than the dataset size; truncating to \"\n"
     ]
    },
    {
     "data": {
      "text/plain": [
       "Text(0, 0.5, 'y')"
      ]
     },
     "execution_count": 28,
     "metadata": {},
     "output_type": "execute_result"
    },
    {
     "data": {
      "image/png": "[encoded data removed]",
      "text/plain": [
       "<Figure size 1152x720 with 1 Axes>"
      ]
     },
     "metadata": {
      "needs_background": "light"
     },
     "output_type": "display_data"
    }
   ],
   "source": [
    "import umap\n",
    "import matplotlib.pyplot as plt\n",
    "\n",
    "from matplotlib.patches import Rectangle\n",
    "\n",
    "umap_embedder = umap.UMAP()\n",
    "embeddings = umap_embedder.fit_transform(bag_of_words)\n",
    "\n",
    "\n",
    "fig = plt.figure(figsize=(16, 10))\n",
    "color_map = {True: \"#1f77b4\", False: \"#ff7f0e\"}\n",
    "plt.scatter(\n",
    "    embeddings[:, 0],\n",
    "    embeddings[:, 1],\n",
    "    c=[color_map[x] for x in label_column],\n",
    "    s=40,\n",
    "    alpha=0.4,\n",
    ")\n",
    "\n",
    "handles = [\n",
    "    Rectangle((0, 0), 1, 1, color=c, ec=\"k\") for c in [\"#1f77b4\", \"#ff7f0e\"]\n",
    "]\n",
    "labels = [\"Label True\", \"Label False\"]\n",
    "plt.legend(handles, labels)\n",
    "\n",
    "plt.gca().set_aspect(\"equal\", \"box\")\n",
    "plt.gca().set_xlabel(\"x\")\n",
    "plt.gca().set_ylabel(\"y\")"
   ]
  },
  {
   "cell_type": "markdown",
   "metadata": {},
   "source": [
    "### Vectorization - SpaCy"
   ]
  },
  {
   "cell_type": "code",
   "execution_count": 38,
   "metadata": {},
   "outputs": [
    {
     "data": {
      "text/plain": [
       "array([[ 0.15016587,  0.21968287, -0.14092764, ...,  0.68508136,\n",
       "         0.49944445, -0.7296176 ],\n",
       "       [-1.0281608 , -1.0779704 ,  0.35232335, ...,  0.2590407 ,\n",
       "        -0.5899911 , -0.5024116 ],\n",
       "       [ 1.5346218 ,  1.168573  ,  0.00756645, ...,  1.382202  ,\n",
       "         0.21090181, -0.5583734 ],\n",
       "       ...,\n",
       "       [-0.11525279,  2.127602  ,  3.0914063 , ...,  0.22973686,\n",
       "         1.9186981 , -2.847746  ],\n",
       "       [ 0.42800403,  0.50988233,  1.288194  , ..., -0.6656015 ,\n",
       "        -0.47617063, -2.41182   ],\n",
       "       [-0.02925038, -1.0066718 ,  1.1522459 , ..., -0.59848785,\n",
       "        -1.6679065 , -0.262261  ]], dtype=float32)"
      ]
     },
     "execution_count": 38,
     "metadata": {},
     "output_type": "execute_result"
    }
   ],
   "source": [
    "import spacy\n",
    "\n",
    "nlp = spacy.load('en_core_web_sm')\n",
    "\n",
    "df = pd.DataFrame({\n",
    "    \"full_text\": [\n",
    "        \"Mr. O'Neill thinks that the boys' stories about Chile's capital aren't amusing.\", \n",
    "        \"That's true.\",\n",
    "        \"Lorem ipsum dolor sit amet, consetetur sadipscing elitr, sed diam nonumy eirmod tempor invidunt ut labore et dolore magna aliquyam erat, sed diam voluptua.\",\n",
    "        \"That\", \"is\", \"tree\", \"human\", \"religion\", \"bottle\", \"pen\", \"mouse\", \"computer\", \"keyboard\"\n",
    "    ],\n",
    "    \"label\": [\n",
    "        True, False, True, True, False, True, False, False, False, True, True, False, True\n",
    "    ]            \n",
    "})\n",
    "label_column = df[\"label\"]\n",
    "\n",
    "spacy_emb = df[\"full_text\"].apply(lambda x: nlp(x).vector)\n",
    "bag_of_words = np.vstack(spacy_emb)\n",
    "bag_of_words"
   ]
  },
  {
   "cell_type": "code",
   "execution_count": 39,
   "metadata": {},
   "outputs": [
    {
     "name": "stderr",
     "output_type": "stream",
     "text": [
      "C:\\Users\\derfu\\anaconda3\\lib\\site-packages\\umap\\umap_.py:1679: UserWarning: n_neighbors is larger than the dataset size; truncating to X.shape[0] - 1\n",
      "  \"n_neighbors is larger than the dataset size; truncating to \"\n"
     ]
    },
    {
     "data": {
      "text/plain": [
       "Text(0, 0.5, 'y')"
      ]
     },
     "execution_count": 39,
     "metadata": {},
     "output_type": "execute_result"
    },
    {
     "data": {
      "image/png": "[encoded data removed]",
      "text/plain": [
       "<Figure size 1152x720 with 1 Axes>"
      ]
     },
     "metadata": {
      "needs_background": "light"
     },
     "output_type": "display_data"
    }
   ],
   "source": [
    "import umap\n",
    "import matplotlib.pyplot as plt\n",
    "\n",
    "from matplotlib.patches import Rectangle\n",
    "\n",
    "umap_embedder = umap.UMAP()\n",
    "embeddings = umap_embedder.fit_transform(bag_of_words)\n",
    "\n",
    "\n",
    "fig = plt.figure(figsize=(16, 10))\n",
    "color_map = {True: \"#1f77b4\", False: \"#ff7f0e\"}\n",
    "plt.scatter(\n",
    "    embeddings[:, 0],\n",
    "    embeddings[:, 1],\n",
    "    c=[color_map[x] for x in label_column],\n",
    "    s=40,\n",
    "    alpha=0.4,\n",
    ")\n",
    "\n",
    "handles = [\n",
    "    Rectangle((0, 0), 1, 1, color=c, ec=\"k\") for c in [\"#1f77b4\", \"#ff7f0e\"]\n",
    "]\n",
    "labels = [\"Label True\", \"Label False\"]\n",
    "plt.legend(handles, labels)\n",
    "\n",
    "plt.gca().set_aspect(\"equal\", \"box\")\n",
    "plt.gca().set_xlabel(\"x\")\n",
    "plt.gca().set_ylabel(\"y\")"
   ]
  }
 ],
 "metadata": {
  "kernelspec": {
   "display_name": "Python 3",
   "language": "python",
   "name": "python3"
  },
  "language_info": {
   "codemirror_mode": {
    "name": "ipython",
    "version": 3
   },
   "file_extension": ".py",
   "mimetype": "text/x-python",
   "name": "python",
   "nbconvert_exporter": "python",
   "pygments_lexer": "ipython3",
   "version": "3.6.10"
  }
 },
 "nbformat": 4,
 "nbformat_minor": 4
}
